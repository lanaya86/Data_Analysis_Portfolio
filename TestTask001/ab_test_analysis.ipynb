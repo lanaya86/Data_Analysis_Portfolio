# ab_test_analysis.ipynb (для Google Colab)

# Импорт библиотек
import pandas as pd
import numpy as np
from scipy import stats
import matplotlib.pyplot as plt
import seaborn as sns

csv_path = "/content/summary_ab_test.csv"
df = pd.read_csv(csv_path)

df.head()

grouped = df.groupby("variation").agg({
    "impressions_sum": "sum",
    "clicks_sum": "sum",
    "profit_sum": "sum",
    "conversions": "sum"
}).reset_index()

grouped["ctr"] = grouped["clicks_sum"] / grouped["impressions_sum"]
grouped["profit_per_click"] = grouped["profit_sum"] / grouped["clicks_sum"]
grouped["conv_rate"] = grouped["conversions"] / grouped["clicks_sum"]

print("Summary by variation:")
print(grouped)


# CTR (пропорции), Z-test
def z_test_prop(success_a, total_a, success_b, total_b):
    p1 = success_a / total_a
    p2 = success_b / total_b
    p = (success_a + success_b) / (total_a + total_b)
    z = (p1 - p2) / np.sqrt(p * (1 - p) * (1 / total_a + 1 / total_b))
    pval = 2 * (1 - stats.norm.cdf(abs(z)))
    return z, pval

z_ctr, p_ctr = z_test_prop(
    grouped.loc[grouped["variation"] == "A", "clicks_sum"].values[0],
    grouped.loc[grouped["variation"] == "A", "impressions_sum"].values[0],
    grouped.loc[grouped["variation"] == "B", "clicks_sum"].values[0],
    grouped.loc[grouped["variation"] == "B", "impressions_sum"].values[0]
)

print(f"Z-test for CTR: z = {z_ctr:.3f}, p-value = {p_ctr:.5f}")

# --- T-TEST для Profit per click ---

grouped_geo = df.groupby(["variation", "geo"]).agg({
    "profit_sum": "sum",
    "clicks_sum": "sum"
}).reset_index()

grouped_geo["profit_per_click"] = grouped_geo["profit_sum"] / grouped_geo["clicks_sum"]

# Разделим по AB
a_ppc = grouped_geo[grouped_geo["variation"] == "A"]["profit_per_click"]
b_ppc = grouped_geo[grouped_geo["variation"] == "B"]["profit_per_click"]

# T-test
ppc_t, p_ppc = stats.ttest_ind(a_ppc, b_ppc, equal_var=False)
print(f"T-test for Profit per click: t = {ppc_t:.3f}, p-value = {p_ppc:.5f}")

# --- T-TEST для Conversion Rate Proxy ---
grouped_geo["conv_rate"] = df.groupby(["variation", "geo"])["conversions"].sum().values / df.groupby(["variation", "geo"])["clicks_sum"].sum().values

a_cr = grouped_geo[grouped_geo["variation"] == "A"]["conv_rate"]
b_cr = grouped_geo[grouped_geo["variation"] == "B"]["conv_rate"]

cr_t, p_cr = stats.ttest_ind(a_cr, b_cr, equal_var=False)
print(f"T-test for Conversion Rate proxy: t = {cr_t:.3f}, p-value = {p_cr:.5f}")

# --- Confidence Intervals ---
def conf_interval(mean, std, n, alpha=0.05):
    se = std / np.sqrt(n)
    h = stats.t.ppf(1 - alpha/2, n - 1) * se
    return mean - h, mean + h

print("\nConfidence Intervals for Profit per click:")
for var, data in grouped_geo.groupby("variation"):
    mean = data["profit_per_click"].mean()
    std = data["profit_per_click"].std()
    n = len(data)
    ci_low, ci_high = conf_interval(mean, std, n)
    print(f"{var}: mean = {mean:.2f}, CI = ({ci_low:.2f}, {ci_high:.2f})")

print("\nConfidence Intervals for Conversion Rate proxy:")
for var, data in grouped_geo.groupby("variation"):
    mean = data["conv_rate"].mean()
    std = data["conv_rate"].std()
    n = len(data)
    ci_low, ci_high = conf_interval(mean, std, n)
    print(f"{var}: mean = {mean:.4f}, CI = ({ci_low:.4f}, {ci_high:.4f})")
